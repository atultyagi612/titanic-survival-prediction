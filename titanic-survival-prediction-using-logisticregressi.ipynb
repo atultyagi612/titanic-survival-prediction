{
 "cells": [
  {
   "cell_type": "code",
   "execution_count": 1,
   "metadata": {
    "_cell_guid": "b1076dfc-b9ad-4769-8c92-a6c4dae69d19",
    "_uuid": "8f2839f25d086af736a60e9eeb907d3b93b6e0e5",
    "execution": {
     "iopub.execute_input": "2021-01-11T10:05:47.994705Z",
     "iopub.status.busy": "2021-01-11T10:05:47.993756Z",
     "iopub.status.idle": "2021-01-11T10:05:49.206876Z",
     "shell.execute_reply": "2021-01-11T10:05:49.207758Z"
    },
    "papermill": {
     "duration": 1.252581,
     "end_time": "2021-01-11T10:05:49.208043",
     "exception": false,
     "start_time": "2021-01-11T10:05:47.955462",
     "status": "completed"
    },
    "tags": []
   },
   "outputs": [
    {
     "name": "stdout",
     "output_type": "stream",
     "text": [
      "/kaggle/input/titanic/train.csv\n",
      "/kaggle/input/titanic/test.csv\n",
      "/kaggle/input/titanic/gender_submission.csv\n"
     ]
    }
   ],
   "source": [
    "# This Python 3 environment comes with many helpful analytics libraries installed\n",
    "# It is defined by the kaggle/python Docker image: https://github.com/kaggle/docker-python\n",
    "# For example, here's several helpful packages to load\n",
    "\n",
    "import numpy as np # linear algebra\n",
    "import pandas as pd # data processing, CSV file I/O (e.g. pd.read_csv)\n",
    "import matplotlib.pyplot as plt\n",
    "from sklearn.linear_model import LogisticRegression\n",
    "from sklearn.metrics import accuracy_score\n",
    "# Input data files are available in the read-only \"../input/\" directory\n",
    "# For example, running this (by clicking run or pressing Shift+Enter) will list all files under the input directory\n",
    "\n",
    "import os\n",
    "for dirname, _, filenames in os.walk('/kaggle/input'):\n",
    "    for filename in filenames:\n",
    "        print(os.path.join(dirname, filename))\n",
    "\n",
    "# You can write up to 20GB to the current directory (/kaggle/working/) that gets preserved as output when you create a version using \"Save & Run All\" \n",
    "# You can also write temporary files to /kaggle/temp/, but they won't be saved outside of the current session"
   ]
  },
  {
   "cell_type": "markdown",
   "metadata": {
    "papermill": {
     "duration": 0.02959,
     "end_time": "2021-01-11T10:05:49.267918",
     "exception": false,
     "start_time": "2021-01-11T10:05:49.238328",
     "status": "completed"
    },
    "tags": []
   },
   "source": [
    "**IMPORT DATA**"
   ]
  },
  {
   "cell_type": "code",
   "execution_count": 2,
   "metadata": {
    "_cell_guid": "79c7e3d0-c299-4dcb-8224-4455121ee9b0",
    "_uuid": "d629ff2d2480ee46fbb7e2d37f6b5fab8052498a",
    "execution": {
     "iopub.execute_input": "2021-01-11T10:05:49.332405Z",
     "iopub.status.busy": "2021-01-11T10:05:49.331674Z",
     "iopub.status.idle": "2021-01-11T10:05:49.384727Z",
     "shell.execute_reply": "2021-01-11T10:05:49.383661Z"
    },
    "papermill": {
     "duration": 0.087473,
     "end_time": "2021-01-11T10:05:49.384899",
     "exception": false,
     "start_time": "2021-01-11T10:05:49.297426",
     "status": "completed"
    },
    "tags": []
   },
   "outputs": [
    {
     "data": {
      "text/html": [
       "<div>\n",
       "<style scoped>\n",
       "    .dataframe tbody tr th:only-of-type {\n",
       "        vertical-align: middle;\n",
       "    }\n",
       "\n",
       "    .dataframe tbody tr th {\n",
       "        vertical-align: top;\n",
       "    }\n",
       "\n",
       "    .dataframe thead th {\n",
       "        text-align: right;\n",
       "    }\n",
       "</style>\n",
       "<table border=\"1\" class=\"dataframe\">\n",
       "  <thead>\n",
       "    <tr style=\"text-align: right;\">\n",
       "      <th></th>\n",
       "      <th>PassengerId</th>\n",
       "      <th>Survived</th>\n",
       "      <th>Pclass</th>\n",
       "      <th>Name</th>\n",
       "      <th>Sex</th>\n",
       "      <th>Age</th>\n",
       "      <th>SibSp</th>\n",
       "      <th>Parch</th>\n",
       "      <th>Ticket</th>\n",
       "      <th>Fare</th>\n",
       "      <th>Cabin</th>\n",
       "      <th>Embarked</th>\n",
       "    </tr>\n",
       "  </thead>\n",
       "  <tbody>\n",
       "    <tr>\n",
       "      <th>0</th>\n",
       "      <td>1</td>\n",
       "      <td>0</td>\n",
       "      <td>3</td>\n",
       "      <td>Braund, Mr. Owen Harris</td>\n",
       "      <td>male</td>\n",
       "      <td>22.0</td>\n",
       "      <td>1</td>\n",
       "      <td>0</td>\n",
       "      <td>A/5 21171</td>\n",
       "      <td>7.2500</td>\n",
       "      <td>NaN</td>\n",
       "      <td>S</td>\n",
       "    </tr>\n",
       "    <tr>\n",
       "      <th>1</th>\n",
       "      <td>2</td>\n",
       "      <td>1</td>\n",
       "      <td>1</td>\n",
       "      <td>Cumings, Mrs. John Bradley (Florence Briggs Th...</td>\n",
       "      <td>female</td>\n",
       "      <td>38.0</td>\n",
       "      <td>1</td>\n",
       "      <td>0</td>\n",
       "      <td>PC 17599</td>\n",
       "      <td>71.2833</td>\n",
       "      <td>C85</td>\n",
       "      <td>C</td>\n",
       "    </tr>\n",
       "    <tr>\n",
       "      <th>2</th>\n",
       "      <td>3</td>\n",
       "      <td>1</td>\n",
       "      <td>3</td>\n",
       "      <td>Heikkinen, Miss. Laina</td>\n",
       "      <td>female</td>\n",
       "      <td>26.0</td>\n",
       "      <td>0</td>\n",
       "      <td>0</td>\n",
       "      <td>STON/O2. 3101282</td>\n",
       "      <td>7.9250</td>\n",
       "      <td>NaN</td>\n",
       "      <td>S</td>\n",
       "    </tr>\n",
       "    <tr>\n",
       "      <th>3</th>\n",
       "      <td>4</td>\n",
       "      <td>1</td>\n",
       "      <td>1</td>\n",
       "      <td>Futrelle, Mrs. Jacques Heath (Lily May Peel)</td>\n",
       "      <td>female</td>\n",
       "      <td>35.0</td>\n",
       "      <td>1</td>\n",
       "      <td>0</td>\n",
       "      <td>113803</td>\n",
       "      <td>53.1000</td>\n",
       "      <td>C123</td>\n",
       "      <td>S</td>\n",
       "    </tr>\n",
       "    <tr>\n",
       "      <th>4</th>\n",
       "      <td>5</td>\n",
       "      <td>0</td>\n",
       "      <td>3</td>\n",
       "      <td>Allen, Mr. William Henry</td>\n",
       "      <td>male</td>\n",
       "      <td>35.0</td>\n",
       "      <td>0</td>\n",
       "      <td>0</td>\n",
       "      <td>373450</td>\n",
       "      <td>8.0500</td>\n",
       "      <td>NaN</td>\n",
       "      <td>S</td>\n",
       "    </tr>\n",
       "    <tr>\n",
       "      <th>...</th>\n",
       "      <td>...</td>\n",
       "      <td>...</td>\n",
       "      <td>...</td>\n",
       "      <td>...</td>\n",
       "      <td>...</td>\n",
       "      <td>...</td>\n",
       "      <td>...</td>\n",
       "      <td>...</td>\n",
       "      <td>...</td>\n",
       "      <td>...</td>\n",
       "      <td>...</td>\n",
       "      <td>...</td>\n",
       "    </tr>\n",
       "    <tr>\n",
       "      <th>886</th>\n",
       "      <td>887</td>\n",
       "      <td>0</td>\n",
       "      <td>2</td>\n",
       "      <td>Montvila, Rev. Juozas</td>\n",
       "      <td>male</td>\n",
       "      <td>27.0</td>\n",
       "      <td>0</td>\n",
       "      <td>0</td>\n",
       "      <td>211536</td>\n",
       "      <td>13.0000</td>\n",
       "      <td>NaN</td>\n",
       "      <td>S</td>\n",
       "    </tr>\n",
       "    <tr>\n",
       "      <th>887</th>\n",
       "      <td>888</td>\n",
       "      <td>1</td>\n",
       "      <td>1</td>\n",
       "      <td>Graham, Miss. Margaret Edith</td>\n",
       "      <td>female</td>\n",
       "      <td>19.0</td>\n",
       "      <td>0</td>\n",
       "      <td>0</td>\n",
       "      <td>112053</td>\n",
       "      <td>30.0000</td>\n",
       "      <td>B42</td>\n",
       "      <td>S</td>\n",
       "    </tr>\n",
       "    <tr>\n",
       "      <th>888</th>\n",
       "      <td>889</td>\n",
       "      <td>0</td>\n",
       "      <td>3</td>\n",
       "      <td>Johnston, Miss. Catherine Helen \"Carrie\"</td>\n",
       "      <td>female</td>\n",
       "      <td>NaN</td>\n",
       "      <td>1</td>\n",
       "      <td>2</td>\n",
       "      <td>W./C. 6607</td>\n",
       "      <td>23.4500</td>\n",
       "      <td>NaN</td>\n",
       "      <td>S</td>\n",
       "    </tr>\n",
       "    <tr>\n",
       "      <th>889</th>\n",
       "      <td>890</td>\n",
       "      <td>1</td>\n",
       "      <td>1</td>\n",
       "      <td>Behr, Mr. Karl Howell</td>\n",
       "      <td>male</td>\n",
       "      <td>26.0</td>\n",
       "      <td>0</td>\n",
       "      <td>0</td>\n",
       "      <td>111369</td>\n",
       "      <td>30.0000</td>\n",
       "      <td>C148</td>\n",
       "      <td>C</td>\n",
       "    </tr>\n",
       "    <tr>\n",
       "      <th>890</th>\n",
       "      <td>891</td>\n",
       "      <td>0</td>\n",
       "      <td>3</td>\n",
       "      <td>Dooley, Mr. Patrick</td>\n",
       "      <td>male</td>\n",
       "      <td>32.0</td>\n",
       "      <td>0</td>\n",
       "      <td>0</td>\n",
       "      <td>370376</td>\n",
       "      <td>7.7500</td>\n",
       "      <td>NaN</td>\n",
       "      <td>Q</td>\n",
       "    </tr>\n",
       "  </tbody>\n",
       "</table>\n",
       "<p>891 rows × 12 columns</p>\n",
       "</div>"
      ],
      "text/plain": [
       "     PassengerId  Survived  Pclass  \\\n",
       "0              1         0       3   \n",
       "1              2         1       1   \n",
       "2              3         1       3   \n",
       "3              4         1       1   \n",
       "4              5         0       3   \n",
       "..           ...       ...     ...   \n",
       "886          887         0       2   \n",
       "887          888         1       1   \n",
       "888          889         0       3   \n",
       "889          890         1       1   \n",
       "890          891         0       3   \n",
       "\n",
       "                                                  Name     Sex   Age  SibSp  \\\n",
       "0                              Braund, Mr. Owen Harris    male  22.0      1   \n",
       "1    Cumings, Mrs. John Bradley (Florence Briggs Th...  female  38.0      1   \n",
       "2                               Heikkinen, Miss. Laina  female  26.0      0   \n",
       "3         Futrelle, Mrs. Jacques Heath (Lily May Peel)  female  35.0      1   \n",
       "4                             Allen, Mr. William Henry    male  35.0      0   \n",
       "..                                                 ...     ...   ...    ...   \n",
       "886                              Montvila, Rev. Juozas    male  27.0      0   \n",
       "887                       Graham, Miss. Margaret Edith  female  19.0      0   \n",
       "888           Johnston, Miss. Catherine Helen \"Carrie\"  female   NaN      1   \n",
       "889                              Behr, Mr. Karl Howell    male  26.0      0   \n",
       "890                                Dooley, Mr. Patrick    male  32.0      0   \n",
       "\n",
       "     Parch            Ticket     Fare Cabin Embarked  \n",
       "0        0         A/5 21171   7.2500   NaN        S  \n",
       "1        0          PC 17599  71.2833   C85        C  \n",
       "2        0  STON/O2. 3101282   7.9250   NaN        S  \n",
       "3        0            113803  53.1000  C123        S  \n",
       "4        0            373450   8.0500   NaN        S  \n",
       "..     ...               ...      ...   ...      ...  \n",
       "886      0            211536  13.0000   NaN        S  \n",
       "887      0            112053  30.0000   B42        S  \n",
       "888      2        W./C. 6607  23.4500   NaN        S  \n",
       "889      0            111369  30.0000  C148        C  \n",
       "890      0            370376   7.7500   NaN        Q  \n",
       "\n",
       "[891 rows x 12 columns]"
      ]
     },
     "execution_count": 2,
     "metadata": {},
     "output_type": "execute_result"
    }
   ],
   "source": [
    "data=pd.read_csv('../input/titanic/train.csv')\n",
    "data"
   ]
  },
  {
   "cell_type": "markdown",
   "metadata": {
    "papermill": {
     "duration": 0.029691,
     "end_time": "2021-01-11T10:05:49.444724",
     "exception": false,
     "start_time": "2021-01-11T10:05:49.415033",
     "status": "completed"
    },
    "tags": []
   },
   "source": [
    "****Try and visulalize this data****"
   ]
  },
  {
   "cell_type": "code",
   "execution_count": 3,
   "metadata": {
    "execution": {
     "iopub.execute_input": "2021-01-11T10:05:49.514816Z",
     "iopub.status.busy": "2021-01-11T10:05:49.514020Z",
     "iopub.status.idle": "2021-01-11T10:05:49.517763Z",
     "shell.execute_reply": "2021-01-11T10:05:49.517085Z"
    },
    "papermill": {
     "duration": 0.043324,
     "end_time": "2021-01-11T10:05:49.517879",
     "exception": false,
     "start_time": "2021-01-11T10:05:49.474555",
     "status": "completed"
    },
    "tags": []
   },
   "outputs": [],
   "source": [
    "data['Ticket_type']=data['Ticket'].apply(lambda x: x[0:3])\n",
    "data['Ticket_type']=data['Ticket_type'].astype('category').cat.codes # convert catogorical data into int "
   ]
  },
  {
   "cell_type": "code",
   "execution_count": 4,
   "metadata": {
    "execution": {
     "iopub.execute_input": "2021-01-11T10:05:49.595031Z",
     "iopub.status.busy": "2021-01-11T10:05:49.593893Z",
     "iopub.status.idle": "2021-01-11T10:05:49.598841Z",
     "shell.execute_reply": "2021-01-11T10:05:49.598273Z"
    },
    "papermill": {
     "duration": 0.050314,
     "end_time": "2021-01-11T10:05:49.598966",
     "exception": false,
     "start_time": "2021-01-11T10:05:49.548652",
     "status": "completed"
    },
    "tags": []
   },
   "outputs": [
    {
     "data": {
      "text/html": [
       "<div>\n",
       "<style scoped>\n",
       "    .dataframe tbody tr th:only-of-type {\n",
       "        vertical-align: middle;\n",
       "    }\n",
       "\n",
       "    .dataframe tbody tr th {\n",
       "        vertical-align: top;\n",
       "    }\n",
       "\n",
       "    .dataframe thead th {\n",
       "        text-align: right;\n",
       "    }\n",
       "</style>\n",
       "<table border=\"1\" class=\"dataframe\">\n",
       "  <thead>\n",
       "    <tr style=\"text-align: right;\">\n",
       "      <th></th>\n",
       "      <th>PassengerId</th>\n",
       "      <th>Survived</th>\n",
       "      <th>Pclass</th>\n",
       "      <th>Name</th>\n",
       "      <th>Sex</th>\n",
       "      <th>Age</th>\n",
       "      <th>SibSp</th>\n",
       "      <th>Parch</th>\n",
       "      <th>Ticket</th>\n",
       "      <th>Fare</th>\n",
       "      <th>Cabin</th>\n",
       "      <th>Embarked</th>\n",
       "      <th>Ticket_type</th>\n",
       "    </tr>\n",
       "  </thead>\n",
       "  <tbody>\n",
       "    <tr>\n",
       "      <th>0</th>\n",
       "      <td>1</td>\n",
       "      <td>0</td>\n",
       "      <td>3</td>\n",
       "      <td>Braund, Mr. Owen Harris</td>\n",
       "      <td>male</td>\n",
       "      <td>22.0</td>\n",
       "      <td>1</td>\n",
       "      <td>0</td>\n",
       "      <td>A/5 21171</td>\n",
       "      <td>7.2500</td>\n",
       "      <td>NaN</td>\n",
       "      <td>S</td>\n",
       "      <td>124</td>\n",
       "    </tr>\n",
       "    <tr>\n",
       "      <th>1</th>\n",
       "      <td>2</td>\n",
       "      <td>1</td>\n",
       "      <td>1</td>\n",
       "      <td>Cumings, Mrs. John Bradley (Florence Briggs Th...</td>\n",
       "      <td>female</td>\n",
       "      <td>38.0</td>\n",
       "      <td>1</td>\n",
       "      <td>0</td>\n",
       "      <td>PC 17599</td>\n",
       "      <td>71.2833</td>\n",
       "      <td>C85</td>\n",
       "      <td>C</td>\n",
       "      <td>137</td>\n",
       "    </tr>\n",
       "    <tr>\n",
       "      <th>2</th>\n",
       "      <td>3</td>\n",
       "      <td>1</td>\n",
       "      <td>3</td>\n",
       "      <td>Heikkinen, Miss. Laina</td>\n",
       "      <td>female</td>\n",
       "      <td>26.0</td>\n",
       "      <td>0</td>\n",
       "      <td>0</td>\n",
       "      <td>STON/O2. 3101282</td>\n",
       "      <td>7.9250</td>\n",
       "      <td>NaN</td>\n",
       "      <td>S</td>\n",
       "      <td>148</td>\n",
       "    </tr>\n",
       "  </tbody>\n",
       "</table>\n",
       "</div>"
      ],
      "text/plain": [
       "   PassengerId  Survived  Pclass  \\\n",
       "0            1         0       3   \n",
       "1            2         1       1   \n",
       "2            3         1       3   \n",
       "\n",
       "                                                Name     Sex   Age  SibSp  \\\n",
       "0                            Braund, Mr. Owen Harris    male  22.0      1   \n",
       "1  Cumings, Mrs. John Bradley (Florence Briggs Th...  female  38.0      1   \n",
       "2                             Heikkinen, Miss. Laina  female  26.0      0   \n",
       "\n",
       "   Parch            Ticket     Fare Cabin Embarked  Ticket_type  \n",
       "0      0         A/5 21171   7.2500   NaN        S          124  \n",
       "1      0          PC 17599  71.2833   C85        C          137  \n",
       "2      0  STON/O2. 3101282   7.9250   NaN        S          148  "
      ]
     },
     "execution_count": 4,
     "metadata": {},
     "output_type": "execute_result"
    }
   ],
   "source": [
    "data.head(3)"
   ]
  },
  {
   "cell_type": "code",
   "execution_count": 5,
   "metadata": {
    "execution": {
     "iopub.execute_input": "2021-01-11T10:05:49.669719Z",
     "iopub.status.busy": "2021-01-11T10:05:49.669008Z",
     "iopub.status.idle": "2021-01-11T10:05:49.672283Z",
     "shell.execute_reply": "2021-01-11T10:05:49.671539Z"
    },
    "papermill": {
     "duration": 0.042324,
     "end_time": "2021-01-11T10:05:49.672421",
     "exception": false,
     "start_time": "2021-01-11T10:05:49.630097",
     "status": "completed"
    },
    "tags": []
   },
   "outputs": [],
   "source": [
    "data['Words_counts']=data['Name'].apply(lambda x: len(x.split())) # counting no. of words in a name"
   ]
  },
  {
   "cell_type": "code",
   "execution_count": 6,
   "metadata": {
    "execution": {
     "iopub.execute_input": "2021-01-11T10:05:49.751888Z",
     "iopub.status.busy": "2021-01-11T10:05:49.751059Z",
     "iopub.status.idle": "2021-01-11T10:05:49.755838Z",
     "shell.execute_reply": "2021-01-11T10:05:49.755134Z"
    },
    "papermill": {
     "duration": 0.052067,
     "end_time": "2021-01-11T10:05:49.755959",
     "exception": false,
     "start_time": "2021-01-11T10:05:49.703892",
     "status": "completed"
    },
    "tags": []
   },
   "outputs": [
    {
     "data": {
      "text/html": [
       "<div>\n",
       "<style scoped>\n",
       "    .dataframe tbody tr th:only-of-type {\n",
       "        vertical-align: middle;\n",
       "    }\n",
       "\n",
       "    .dataframe tbody tr th {\n",
       "        vertical-align: top;\n",
       "    }\n",
       "\n",
       "    .dataframe thead th {\n",
       "        text-align: right;\n",
       "    }\n",
       "</style>\n",
       "<table border=\"1\" class=\"dataframe\">\n",
       "  <thead>\n",
       "    <tr style=\"text-align: right;\">\n",
       "      <th></th>\n",
       "      <th>PassengerId</th>\n",
       "      <th>Survived</th>\n",
       "      <th>Pclass</th>\n",
       "      <th>Name</th>\n",
       "      <th>Sex</th>\n",
       "      <th>Age</th>\n",
       "      <th>SibSp</th>\n",
       "      <th>Parch</th>\n",
       "      <th>Ticket</th>\n",
       "      <th>Fare</th>\n",
       "      <th>Cabin</th>\n",
       "      <th>Embarked</th>\n",
       "      <th>Ticket_type</th>\n",
       "      <th>Words_counts</th>\n",
       "    </tr>\n",
       "  </thead>\n",
       "  <tbody>\n",
       "    <tr>\n",
       "      <th>0</th>\n",
       "      <td>1</td>\n",
       "      <td>0</td>\n",
       "      <td>3</td>\n",
       "      <td>Braund, Mr. Owen Harris</td>\n",
       "      <td>male</td>\n",
       "      <td>22.0</td>\n",
       "      <td>1</td>\n",
       "      <td>0</td>\n",
       "      <td>A/5 21171</td>\n",
       "      <td>7.2500</td>\n",
       "      <td>NaN</td>\n",
       "      <td>S</td>\n",
       "      <td>124</td>\n",
       "      <td>4</td>\n",
       "    </tr>\n",
       "    <tr>\n",
       "      <th>1</th>\n",
       "      <td>2</td>\n",
       "      <td>1</td>\n",
       "      <td>1</td>\n",
       "      <td>Cumings, Mrs. John Bradley (Florence Briggs Th...</td>\n",
       "      <td>female</td>\n",
       "      <td>38.0</td>\n",
       "      <td>1</td>\n",
       "      <td>0</td>\n",
       "      <td>PC 17599</td>\n",
       "      <td>71.2833</td>\n",
       "      <td>C85</td>\n",
       "      <td>C</td>\n",
       "      <td>137</td>\n",
       "      <td>7</td>\n",
       "    </tr>\n",
       "    <tr>\n",
       "      <th>2</th>\n",
       "      <td>3</td>\n",
       "      <td>1</td>\n",
       "      <td>3</td>\n",
       "      <td>Heikkinen, Miss. Laina</td>\n",
       "      <td>female</td>\n",
       "      <td>26.0</td>\n",
       "      <td>0</td>\n",
       "      <td>0</td>\n",
       "      <td>STON/O2. 3101282</td>\n",
       "      <td>7.9250</td>\n",
       "      <td>NaN</td>\n",
       "      <td>S</td>\n",
       "      <td>148</td>\n",
       "      <td>3</td>\n",
       "    </tr>\n",
       "  </tbody>\n",
       "</table>\n",
       "</div>"
      ],
      "text/plain": [
       "   PassengerId  Survived  Pclass  \\\n",
       "0            1         0       3   \n",
       "1            2         1       1   \n",
       "2            3         1       3   \n",
       "\n",
       "                                                Name     Sex   Age  SibSp  \\\n",
       "0                            Braund, Mr. Owen Harris    male  22.0      1   \n",
       "1  Cumings, Mrs. John Bradley (Florence Briggs Th...  female  38.0      1   \n",
       "2                             Heikkinen, Miss. Laina  female  26.0      0   \n",
       "\n",
       "   Parch            Ticket     Fare Cabin Embarked  Ticket_type  Words_counts  \n",
       "0      0         A/5 21171   7.2500   NaN        S          124             4  \n",
       "1      0          PC 17599  71.2833   C85        C          137             7  \n",
       "2      0  STON/O2. 3101282   7.9250   NaN        S          148             3  "
      ]
     },
     "execution_count": 6,
     "metadata": {},
     "output_type": "execute_result"
    }
   ],
   "source": [
    "data.head(3)"
   ]
  },
  {
   "cell_type": "code",
   "execution_count": 7,
   "metadata": {
    "execution": {
     "iopub.execute_input": "2021-01-11T10:05:49.841311Z",
     "iopub.status.busy": "2021-01-11T10:05:49.828957Z",
     "iopub.status.idle": "2021-01-11T10:05:49.846090Z",
     "shell.execute_reply": "2021-01-11T10:05:49.845426Z"
    },
    "papermill": {
     "duration": 0.058386,
     "end_time": "2021-01-11T10:05:49.846202",
     "exception": false,
     "start_time": "2021-01-11T10:05:49.787816",
     "status": "completed"
    },
    "tags": []
   },
   "outputs": [
    {
     "data": {
      "text/html": [
       "<div>\n",
       "<style scoped>\n",
       "    .dataframe tbody tr th:only-of-type {\n",
       "        vertical-align: middle;\n",
       "    }\n",
       "\n",
       "    .dataframe tbody tr th {\n",
       "        vertical-align: top;\n",
       "    }\n",
       "\n",
       "    .dataframe thead th {\n",
       "        text-align: right;\n",
       "    }\n",
       "</style>\n",
       "<table border=\"1\" class=\"dataframe\">\n",
       "  <thead>\n",
       "    <tr style=\"text-align: right;\">\n",
       "      <th></th>\n",
       "      <th>PassengerId</th>\n",
       "      <th>Survived</th>\n",
       "      <th>Pclass</th>\n",
       "      <th>Name</th>\n",
       "      <th>Sex</th>\n",
       "      <th>Age</th>\n",
       "      <th>SibSp</th>\n",
       "      <th>Parch</th>\n",
       "      <th>Ticket</th>\n",
       "      <th>Fare</th>\n",
       "      <th>Cabin</th>\n",
       "      <th>Embarked</th>\n",
       "      <th>Ticket_type</th>\n",
       "      <th>Words_counts</th>\n",
       "      <th>cabin_or_not</th>\n",
       "    </tr>\n",
       "  </thead>\n",
       "  <tbody>\n",
       "    <tr>\n",
       "      <th>0</th>\n",
       "      <td>1</td>\n",
       "      <td>0</td>\n",
       "      <td>3</td>\n",
       "      <td>Braund, Mr. Owen Harris</td>\n",
       "      <td>male</td>\n",
       "      <td>22.0</td>\n",
       "      <td>1</td>\n",
       "      <td>0</td>\n",
       "      <td>A/5 21171</td>\n",
       "      <td>7.2500</td>\n",
       "      <td>NaN</td>\n",
       "      <td>S</td>\n",
       "      <td>124</td>\n",
       "      <td>4</td>\n",
       "      <td>0</td>\n",
       "    </tr>\n",
       "    <tr>\n",
       "      <th>1</th>\n",
       "      <td>2</td>\n",
       "      <td>1</td>\n",
       "      <td>1</td>\n",
       "      <td>Cumings, Mrs. John Bradley (Florence Briggs Th...</td>\n",
       "      <td>female</td>\n",
       "      <td>38.0</td>\n",
       "      <td>1</td>\n",
       "      <td>0</td>\n",
       "      <td>PC 17599</td>\n",
       "      <td>71.2833</td>\n",
       "      <td>C85</td>\n",
       "      <td>C</td>\n",
       "      <td>137</td>\n",
       "      <td>7</td>\n",
       "      <td>1</td>\n",
       "    </tr>\n",
       "    <tr>\n",
       "      <th>2</th>\n",
       "      <td>3</td>\n",
       "      <td>1</td>\n",
       "      <td>3</td>\n",
       "      <td>Heikkinen, Miss. Laina</td>\n",
       "      <td>female</td>\n",
       "      <td>26.0</td>\n",
       "      <td>0</td>\n",
       "      <td>0</td>\n",
       "      <td>STON/O2. 3101282</td>\n",
       "      <td>7.9250</td>\n",
       "      <td>NaN</td>\n",
       "      <td>S</td>\n",
       "      <td>148</td>\n",
       "      <td>3</td>\n",
       "      <td>0</td>\n",
       "    </tr>\n",
       "  </tbody>\n",
       "</table>\n",
       "</div>"
      ],
      "text/plain": [
       "   PassengerId  Survived  Pclass  \\\n",
       "0            1         0       3   \n",
       "1            2         1       1   \n",
       "2            3         1       3   \n",
       "\n",
       "                                                Name     Sex   Age  SibSp  \\\n",
       "0                            Braund, Mr. Owen Harris    male  22.0      1   \n",
       "1  Cumings, Mrs. John Bradley (Florence Briggs Th...  female  38.0      1   \n",
       "2                             Heikkinen, Miss. Laina  female  26.0      0   \n",
       "\n",
       "   Parch            Ticket     Fare Cabin Embarked  Ticket_type  Words_counts  \\\n",
       "0      0         A/5 21171   7.2500   NaN        S          124             4   \n",
       "1      0          PC 17599  71.2833   C85        C          137             7   \n",
       "2      0  STON/O2. 3101282   7.9250   NaN        S          148             3   \n",
       "\n",
       "   cabin_or_not  \n",
       "0             0  \n",
       "1             1  \n",
       "2             0  "
      ]
     },
     "execution_count": 7,
     "metadata": {},
     "output_type": "execute_result"
    }
   ],
   "source": [
    "data['cabin_or_not']=data[\"Cabin\"].apply(lambda x: 0 if type(x) == float else 1)  # passenger has a cabin or not \n",
    "data.head(3)"
   ]
  },
  {
   "cell_type": "markdown",
   "metadata": {
    "papermill": {
     "duration": 0.032245,
     "end_time": "2021-01-11T10:05:49.911071",
     "exception": false,
     "start_time": "2021-01-11T10:05:49.878826",
     "status": "completed"
    },
    "tags": []
   },
   "source": [
    "**Survival rate of passengers having cabin or not**"
   ]
  },
  {
   "cell_type": "code",
   "execution_count": 8,
   "metadata": {
    "execution": {
     "iopub.execute_input": "2021-01-11T10:05:49.983329Z",
     "iopub.status.busy": "2021-01-11T10:05:49.980876Z",
     "iopub.status.idle": "2021-01-11T10:05:50.221405Z",
     "shell.execute_reply": "2021-01-11T10:05:50.221910Z"
    },
    "papermill": {
     "duration": 0.279018,
     "end_time": "2021-01-11T10:05:50.222072",
     "exception": false,
     "start_time": "2021-01-11T10:05:49.943054",
     "status": "completed"
    },
    "tags": []
   },
   "outputs": [
    {
     "data": {
      "text/plain": [
       "<matplotlib.axes._subplots.AxesSubplot at 0x7f290ed426d0>"
      ]
     },
     "execution_count": 8,
     "metadata": {},
     "output_type": "execute_result"
    },
    {
     "data": {
      "image/png": "[encoded data removed]",
      "text/plain": [
       "<Figure size 432x288 with 1 Axes>"
      ]
     },
     "metadata": {
      "needs_background": "light"
     },
     "output_type": "display_data"
    }
   ],
   "source": [
    "pd.pivot_table(data,values='Survived',columns='cabin_or_not').plot.bar()"
   ]
  },
  {
   "cell_type": "code",
   "execution_count": 9,
   "metadata": {
    "execution": {
     "iopub.execute_input": "2021-01-11T10:05:50.298039Z",
     "iopub.status.busy": "2021-01-11T10:05:50.296949Z",
     "iopub.status.idle": "2021-01-11T10:05:50.300920Z",
     "shell.execute_reply": "2021-01-11T10:05:50.300318Z"
    },
    "papermill": {
     "duration": 0.044831,
     "end_time": "2021-01-11T10:05:50.301051",
     "exception": false,
     "start_time": "2021-01-11T10:05:50.256220",
     "status": "completed"
    },
    "tags": []
   },
   "outputs": [],
   "source": [
    "data['Family_size']=data['SibSp'] + data['Parch'] + 1  # find family size and make a saperate column"
   ]
  },
  {
   "cell_type": "code",
   "execution_count": 10,
   "metadata": {
    "execution": {
     "iopub.execute_input": "2021-01-11T10:05:50.380983Z",
     "iopub.status.busy": "2021-01-11T10:05:50.380295Z",
     "iopub.status.idle": "2021-01-11T10:05:50.391128Z",
     "shell.execute_reply": "2021-01-11T10:05:50.390473Z"
    },
    "papermill": {
     "duration": 0.055511,
     "end_time": "2021-01-11T10:05:50.391263",
     "exception": false,
     "start_time": "2021-01-11T10:05:50.335752",
     "status": "completed"
    },
    "tags": []
   },
   "outputs": [
    {
     "data": {
      "text/html": [
       "<div>\n",
       "<style scoped>\n",
       "    .dataframe tbody tr th:only-of-type {\n",
       "        vertical-align: middle;\n",
       "    }\n",
       "\n",
       "    .dataframe tbody tr th {\n",
       "        vertical-align: top;\n",
       "    }\n",
       "\n",
       "    .dataframe thead th {\n",
       "        text-align: right;\n",
       "    }\n",
       "</style>\n",
       "<table border=\"1\" class=\"dataframe\">\n",
       "  <thead>\n",
       "    <tr style=\"text-align: right;\">\n",
       "      <th></th>\n",
       "      <th>PassengerId</th>\n",
       "      <th>Survived</th>\n",
       "      <th>Pclass</th>\n",
       "      <th>Name</th>\n",
       "      <th>Sex</th>\n",
       "      <th>Age</th>\n",
       "      <th>SibSp</th>\n",
       "      <th>Parch</th>\n",
       "      <th>Ticket</th>\n",
       "      <th>Fare</th>\n",
       "      <th>Cabin</th>\n",
       "      <th>Embarked</th>\n",
       "      <th>Ticket_type</th>\n",
       "      <th>Words_counts</th>\n",
       "      <th>cabin_or_not</th>\n",
       "      <th>Family_size</th>\n",
       "    </tr>\n",
       "  </thead>\n",
       "  <tbody>\n",
       "    <tr>\n",
       "      <th>0</th>\n",
       "      <td>1</td>\n",
       "      <td>0</td>\n",
       "      <td>3</td>\n",
       "      <td>Braund, Mr. Owen Harris</td>\n",
       "      <td>male</td>\n",
       "      <td>22.0</td>\n",
       "      <td>1</td>\n",
       "      <td>0</td>\n",
       "      <td>A/5 21171</td>\n",
       "      <td>7.2500</td>\n",
       "      <td>NaN</td>\n",
       "      <td>S</td>\n",
       "      <td>124</td>\n",
       "      <td>4</td>\n",
       "      <td>0</td>\n",
       "      <td>2</td>\n",
       "    </tr>\n",
       "    <tr>\n",
       "      <th>1</th>\n",
       "      <td>2</td>\n",
       "      <td>1</td>\n",
       "      <td>1</td>\n",
       "      <td>Cumings, Mrs. John Bradley (Florence Briggs Th...</td>\n",
       "      <td>female</td>\n",
       "      <td>38.0</td>\n",
       "      <td>1</td>\n",
       "      <td>0</td>\n",
       "      <td>PC 17599</td>\n",
       "      <td>71.2833</td>\n",
       "      <td>C85</td>\n",
       "      <td>C</td>\n",
       "      <td>137</td>\n",
       "      <td>7</td>\n",
       "      <td>1</td>\n",
       "      <td>2</td>\n",
       "    </tr>\n",
       "    <tr>\n",
       "      <th>2</th>\n",
       "      <td>3</td>\n",
       "      <td>1</td>\n",
       "      <td>3</td>\n",
       "      <td>Heikkinen, Miss. Laina</td>\n",
       "      <td>female</td>\n",
       "      <td>26.0</td>\n",
       "      <td>0</td>\n",
       "      <td>0</td>\n",
       "      <td>STON/O2. 3101282</td>\n",
       "      <td>7.9250</td>\n",
       "      <td>NaN</td>\n",
       "      <td>S</td>\n",
       "      <td>148</td>\n",
       "      <td>3</td>\n",
       "      <td>0</td>\n",
       "      <td>1</td>\n",
       "    </tr>\n",
       "  </tbody>\n",
       "</table>\n",
       "</div>"
      ],
      "text/plain": [
       "   PassengerId  Survived  Pclass  \\\n",
       "0            1         0       3   \n",
       "1            2         1       1   \n",
       "2            3         1       3   \n",
       "\n",
       "                                                Name     Sex   Age  SibSp  \\\n",
       "0                            Braund, Mr. Owen Harris    male  22.0      1   \n",
       "1  Cumings, Mrs. John Bradley (Florence Briggs Th...  female  38.0      1   \n",
       "2                             Heikkinen, Miss. Laina  female  26.0      0   \n",
       "\n",
       "   Parch            Ticket     Fare Cabin Embarked  Ticket_type  Words_counts  \\\n",
       "0      0         A/5 21171   7.2500   NaN        S          124             4   \n",
       "1      0          PC 17599  71.2833   C85        C          137             7   \n",
       "2      0  STON/O2. 3101282   7.9250   NaN        S          148             3   \n",
       "\n",
       "   cabin_or_not  Family_size  \n",
       "0             0            2  \n",
       "1             1            2  \n",
       "2             0            1  "
      ]
     },
     "execution_count": 10,
     "metadata": {},
     "output_type": "execute_result"
    }
   ],
   "source": [
    "data.head(3)"
   ]
  },
  {
   "cell_type": "code",
   "execution_count": 11,
   "metadata": {
    "execution": {
     "iopub.execute_input": "2021-01-11T10:05:50.474490Z",
     "iopub.status.busy": "2021-01-11T10:05:50.465317Z",
     "iopub.status.idle": "2021-01-11T10:05:50.650572Z",
     "shell.execute_reply": "2021-01-11T10:05:50.651056Z"
    },
    "papermill": {
     "duration": 0.225753,
     "end_time": "2021-01-11T10:05:50.651207",
     "exception": false,
     "start_time": "2021-01-11T10:05:50.425454",
     "status": "completed"
    },
    "tags": []
   },
   "outputs": [
    {
     "data": {
      "text/plain": [
       "<matplotlib.axes._subplots.AxesSubplot at 0x7f29097d1410>"
      ]
     },
     "execution_count": 11,
     "metadata": {},
     "output_type": "execute_result"
    },
    {
     "data": {
      "image/png": "[encoded data removed]",
      "text/plain": [
       "<Figure size 432x288 with 1 Axes>"
      ]
     },
     "metadata": {
      "needs_background": "light"
     },
     "output_type": "display_data"
    }
   ],
   "source": [
    "pd.pivot_table(data,values='Survived',columns='Family_size').plot.bar()"
   ]
  },
  {
   "cell_type": "code",
   "execution_count": 12,
   "metadata": {
    "execution": {
     "iopub.execute_input": "2021-01-11T10:05:50.726469Z",
     "iopub.status.busy": "2021-01-11T10:05:50.725383Z",
     "iopub.status.idle": "2021-01-11T10:05:50.745748Z",
     "shell.execute_reply": "2021-01-11T10:05:50.746244Z"
    },
    "papermill": {
     "duration": 0.0597,
     "end_time": "2021-01-11T10:05:50.746413",
     "exception": false,
     "start_time": "2021-01-11T10:05:50.686713",
     "status": "completed"
    },
    "tags": []
   },
   "outputs": [
    {
     "data": {
      "text/html": [
       "<div>\n",
       "<style scoped>\n",
       "    .dataframe tbody tr th:only-of-type {\n",
       "        vertical-align: middle;\n",
       "    }\n",
       "\n",
       "    .dataframe tbody tr th {\n",
       "        vertical-align: top;\n",
       "    }\n",
       "\n",
       "    .dataframe thead th {\n",
       "        text-align: right;\n",
       "    }\n",
       "</style>\n",
       "<table border=\"1\" class=\"dataframe\">\n",
       "  <thead>\n",
       "    <tr style=\"text-align: right;\">\n",
       "      <th></th>\n",
       "      <th>PassengerId</th>\n",
       "      <th>Survived</th>\n",
       "      <th>Pclass</th>\n",
       "      <th>Name</th>\n",
       "      <th>Sex</th>\n",
       "      <th>Age</th>\n",
       "      <th>SibSp</th>\n",
       "      <th>Parch</th>\n",
       "      <th>Ticket</th>\n",
       "      <th>Fare</th>\n",
       "      <th>Cabin</th>\n",
       "      <th>Embarked</th>\n",
       "      <th>Ticket_type</th>\n",
       "      <th>Words_counts</th>\n",
       "      <th>cabin_or_not</th>\n",
       "      <th>Family_size</th>\n",
       "      <th>IsAlone</th>\n",
       "    </tr>\n",
       "  </thead>\n",
       "  <tbody>\n",
       "    <tr>\n",
       "      <th>0</th>\n",
       "      <td>1</td>\n",
       "      <td>0</td>\n",
       "      <td>3</td>\n",
       "      <td>Braund, Mr. Owen Harris</td>\n",
       "      <td>male</td>\n",
       "      <td>22.0</td>\n",
       "      <td>1</td>\n",
       "      <td>0</td>\n",
       "      <td>A/5 21171</td>\n",
       "      <td>7.2500</td>\n",
       "      <td>NaN</td>\n",
       "      <td>S</td>\n",
       "      <td>124</td>\n",
       "      <td>4</td>\n",
       "      <td>0</td>\n",
       "      <td>2</td>\n",
       "      <td>0</td>\n",
       "    </tr>\n",
       "    <tr>\n",
       "      <th>1</th>\n",
       "      <td>2</td>\n",
       "      <td>1</td>\n",
       "      <td>1</td>\n",
       "      <td>Cumings, Mrs. John Bradley (Florence Briggs Th...</td>\n",
       "      <td>female</td>\n",
       "      <td>38.0</td>\n",
       "      <td>1</td>\n",
       "      <td>0</td>\n",
       "      <td>PC 17599</td>\n",
       "      <td>71.2833</td>\n",
       "      <td>C85</td>\n",
       "      <td>C</td>\n",
       "      <td>137</td>\n",
       "      <td>7</td>\n",
       "      <td>1</td>\n",
       "      <td>2</td>\n",
       "      <td>0</td>\n",
       "    </tr>\n",
       "    <tr>\n",
       "      <th>2</th>\n",
       "      <td>3</td>\n",
       "      <td>1</td>\n",
       "      <td>3</td>\n",
       "      <td>Heikkinen, Miss. Laina</td>\n",
       "      <td>female</td>\n",
       "      <td>26.0</td>\n",
       "      <td>0</td>\n",
       "      <td>0</td>\n",
       "      <td>STON/O2. 3101282</td>\n",
       "      <td>7.9250</td>\n",
       "      <td>NaN</td>\n",
       "      <td>S</td>\n",
       "      <td>148</td>\n",
       "      <td>3</td>\n",
       "      <td>0</td>\n",
       "      <td>1</td>\n",
       "      <td>1</td>\n",
       "    </tr>\n",
       "  </tbody>\n",
       "</table>\n",
       "</div>"
      ],
      "text/plain": [
       "   PassengerId  Survived  Pclass  \\\n",
       "0            1         0       3   \n",
       "1            2         1       1   \n",
       "2            3         1       3   \n",
       "\n",
       "                                                Name     Sex   Age  SibSp  \\\n",
       "0                            Braund, Mr. Owen Harris    male  22.0      1   \n",
       "1  Cumings, Mrs. John Bradley (Florence Briggs Th...  female  38.0      1   \n",
       "2                             Heikkinen, Miss. Laina  female  26.0      0   \n",
       "\n",
       "   Parch            Ticket     Fare Cabin Embarked  Ticket_type  Words_counts  \\\n",
       "0      0         A/5 21171   7.2500   NaN        S          124             4   \n",
       "1      0          PC 17599  71.2833   C85        C          137             7   \n",
       "2      0  STON/O2. 3101282   7.9250   NaN        S          148             3   \n",
       "\n",
       "   cabin_or_not  Family_size  IsAlone  \n",
       "0             0            2        0  \n",
       "1             1            2        0  \n",
       "2             0            1        1  "
      ]
     },
     "execution_count": 12,
     "metadata": {},
     "output_type": "execute_result"
    }
   ],
   "source": [
    "data['IsAlone'] = 0\n",
    "data.loc[data['Family_size'] == 1, 'IsAlone'] = 1 # is a passenger is with family or not\n",
    "data.head(3)"
   ]
  },
  {
   "cell_type": "code",
   "execution_count": 13,
   "metadata": {
    "execution": {
     "iopub.execute_input": "2021-01-11T10:05:50.827557Z",
     "iopub.status.busy": "2021-01-11T10:05:50.826234Z",
     "iopub.status.idle": "2021-01-11T10:05:50.968398Z",
     "shell.execute_reply": "2021-01-11T10:05:50.967825Z"
    },
    "papermill": {
     "duration": 0.185515,
     "end_time": "2021-01-11T10:05:50.968524",
     "exception": false,
     "start_time": "2021-01-11T10:05:50.783009",
     "status": "completed"
    },
    "tags": []
   },
   "outputs": [
    {
     "data": {
      "text/plain": [
       "<matplotlib.axes._subplots.AxesSubplot at 0x7f29097aabd0>"
      ]
     },
     "execution_count": 13,
     "metadata": {},
     "output_type": "execute_result"
    },
    {
     "data": {
      "image/png": "[encoded data removed]",
      "text/plain": [
       "<Figure size 432x288 with 1 Axes>"
      ]
     },
     "metadata": {
      "needs_background": "light"
     },
     "output_type": "display_data"
    }
   ],
   "source": [
    "pd.pivot_table(data,values='Survived',columns='IsAlone').plot.bar()"
   ]
  },
  {
   "cell_type": "code",
   "execution_count": 14,
   "metadata": {
    "execution": {
     "iopub.execute_input": "2021-01-11T10:05:51.047800Z",
     "iopub.status.busy": "2021-01-11T10:05:51.047109Z",
     "iopub.status.idle": "2021-01-11T10:05:51.053482Z",
     "shell.execute_reply": "2021-01-11T10:05:51.054012Z"
    },
    "papermill": {
     "duration": 0.047583,
     "end_time": "2021-01-11T10:05:51.054152",
     "exception": false,
     "start_time": "2021-01-11T10:05:51.006569",
     "status": "completed"
    },
    "tags": []
   },
   "outputs": [],
   "source": [
    "data['Embarked'] = data['Embarked'].fillna('S')   #Fill na \n",
    "data['Age'].fillna(data['Age'].mean(),inplace=True)"
   ]
  },
  {
   "cell_type": "code",
   "execution_count": 15,
   "metadata": {
    "execution": {
     "iopub.execute_input": "2021-01-11T10:05:51.133111Z",
     "iopub.status.busy": "2021-01-11T10:05:51.132419Z",
     "iopub.status.idle": "2021-01-11T10:05:51.148094Z",
     "shell.execute_reply": "2021-01-11T10:05:51.147390Z"
    },
    "papermill": {
     "duration": 0.056607,
     "end_time": "2021-01-11T10:05:51.148211",
     "exception": false,
     "start_time": "2021-01-11T10:05:51.091604",
     "status": "completed"
    },
    "tags": []
   },
   "outputs": [],
   "source": [
    "data['fare_cat']=pd.qcut(data['Fare'], 4) #dividing fare into catogories\n",
    "data['fare_cat']=data['fare_cat'].astype('category').cat.codes.astype('int')"
   ]
  },
  {
   "cell_type": "markdown",
   "metadata": {
    "papermill": {
     "duration": 0.037165,
     "end_time": "2021-01-11T10:05:51.223218",
     "exception": false,
     "start_time": "2021-01-11T10:05:51.186053",
     "status": "completed"
    },
    "tags": []
   },
   "source": [
    "**Fare VS Survival plot**"
   ]
  },
  {
   "cell_type": "code",
   "execution_count": 16,
   "metadata": {
    "execution": {
     "iopub.execute_input": "2021-01-11T10:05:51.326789Z",
     "iopub.status.busy": "2021-01-11T10:05:51.325929Z",
     "iopub.status.idle": "2021-01-11T10:05:51.461346Z",
     "shell.execute_reply": "2021-01-11T10:05:51.460734Z"
    },
    "papermill": {
     "duration": 0.200658,
     "end_time": "2021-01-11T10:05:51.461522",
     "exception": false,
     "start_time": "2021-01-11T10:05:51.260864",
     "status": "completed"
    },
    "tags": []
   },
   "outputs": [
    {
     "data": {
      "text/plain": [
       "<matplotlib.axes._subplots.AxesSubplot at 0x7f290968b190>"
      ]
     },
     "execution_count": 16,
     "metadata": {},
     "output_type": "execute_result"
    },
    {
     "data": {
      "image/png": "[encoded data removed]",
      "text/plain": [
       "<Figure size 432x288 with 1 Axes>"
      ]
     },
     "metadata": {
      "needs_background": "light"
     },
     "output_type": "display_data"
    }
   ],
   "source": [
    "pd.pivot_table(data,values='Survived',columns='fare_cat').plot.bar()"
   ]
  },
  {
   "cell_type": "code",
   "execution_count": 17,
   "metadata": {
    "execution": {
     "iopub.execute_input": "2021-01-11T10:05:51.549894Z",
     "iopub.status.busy": "2021-01-11T10:05:51.549204Z",
     "iopub.status.idle": "2021-01-11T10:05:51.558706Z",
     "shell.execute_reply": "2021-01-11T10:05:51.558045Z"
    },
    "papermill": {
     "duration": 0.0582,
     "end_time": "2021-01-11T10:05:51.558848",
     "exception": false,
     "start_time": "2021-01-11T10:05:51.500648",
     "status": "completed"
    },
    "tags": []
   },
   "outputs": [
    {
     "name": "stdout",
     "output_type": "stream",
     "text": [
      "(16.336, 32.252]    523\n",
      "(32.252, 48.168]    188\n",
      "(0.34, 16.336]      100\n",
      "(48.168, 64.084]     69\n",
      "(64.084, 80.0]       11\n",
      "Name: cat_age, dtype: int64\n"
     ]
    }
   ],
   "source": [
    "data['cat_age']=pd.cut(data['Age'],5)   #Dividing age into 5 catogories\n",
    "print(data['cat_age'].value_counts())\n",
    "data['cat_age']=data['cat_age'].astype('category').cat.codes.astype('int')"
   ]
  },
  {
   "cell_type": "markdown",
   "metadata": {
    "papermill": {
     "duration": 0.039158,
     "end_time": "2021-01-11T10:05:51.637691",
     "exception": false,
     "start_time": "2021-01-11T10:05:51.598533",
     "status": "completed"
    },
    "tags": []
   },
   "source": [
    "**Age vs Survival plot**"
   ]
  },
  {
   "cell_type": "code",
   "execution_count": 18,
   "metadata": {
    "execution": {
     "iopub.execute_input": "2021-01-11T10:05:51.822667Z",
     "iopub.status.busy": "2021-01-11T10:05:51.725092Z",
     "iopub.status.idle": "2021-01-11T10:05:51.963588Z",
     "shell.execute_reply": "2021-01-11T10:05:51.964117Z"
    },
    "papermill": {
     "duration": 0.287137,
     "end_time": "2021-01-11T10:05:51.964269",
     "exception": false,
     "start_time": "2021-01-11T10:05:51.677132",
     "status": "completed"
    },
    "tags": []
   },
   "outputs": [
    {
     "data": {
      "text/plain": [
       "<matplotlib.axes._subplots.AxesSubplot at 0x7f290960d990>"
      ]
     },
     "execution_count": 18,
     "metadata": {},
     "output_type": "execute_result"
    },
    {
     "data": {
      "image/png": "[encoded data removed]",
      "text/plain": [
       "<Figure size 432x288 with 1 Axes>"
      ]
     },
     "metadata": {
      "needs_background": "light"
     },
     "output_type": "display_data"
    }
   ],
   "source": [
    "pd.pivot_table(data,values='Survived',columns='cat_age').plot.bar()\n",
    "#Childrens has the highest rate of survival and elders has lowest"
   ]
  },
  {
   "cell_type": "code",
   "execution_count": 19,
   "metadata": {
    "execution": {
     "iopub.execute_input": "2021-01-11T10:05:52.069177Z",
     "iopub.status.busy": "2021-01-11T10:05:52.068144Z",
     "iopub.status.idle": "2021-01-11T10:05:52.072088Z",
     "shell.execute_reply": "2021-01-11T10:05:52.071578Z"
    },
    "papermill": {
     "duration": 0.066067,
     "end_time": "2021-01-11T10:05:52.072202",
     "exception": false,
     "start_time": "2021-01-11T10:05:52.006135",
     "status": "completed"
    },
    "tags": []
   },
   "outputs": [
    {
     "data": {
      "text/plain": [
       "Mr          517\n",
       "Miss        182\n",
       "Mrs         125\n",
       "Master       40\n",
       "Dr            7\n",
       "Rev           6\n",
       "Mlle          2\n",
       "Col           2\n",
       "Major         2\n",
       "Mme           1\n",
       "Capt          1\n",
       "Sir           1\n",
       "Don           1\n",
       "Ms            1\n",
       "Countess      1\n",
       "Jonkheer      1\n",
       "Lady          1\n",
       "dtype: int64"
      ]
     },
     "execution_count": 19,
     "metadata": {},
     "output_type": "execute_result"
    }
   ],
   "source": [
    "# collecting titles from their names\n",
    "import re\n",
    "title=[]\n",
    "for i in range(0,891):\n",
    "    title.append(re.search(' ([A-Za-z]+)\\.', data['Name'][i]).group(1))\n",
    "title=pd.Series(title)\n",
    "title.value_counts()"
   ]
  },
  {
   "cell_type": "code",
   "execution_count": 20,
   "metadata": {
    "execution": {
     "iopub.execute_input": "2021-01-11T10:05:52.168934Z",
     "iopub.status.busy": "2021-01-11T10:05:52.167831Z",
     "iopub.status.idle": "2021-01-11T10:05:52.172728Z",
     "shell.execute_reply": "2021-01-11T10:05:52.171952Z"
    },
    "papermill": {
     "duration": 0.059573,
     "end_time": "2021-01-11T10:05:52.172842",
     "exception": false,
     "start_time": "2021-01-11T10:05:52.113269",
     "status": "completed"
    },
    "tags": []
   },
   "outputs": [
    {
     "data": {
      "text/plain": [
       "Mr        517\n",
       "Miss      185\n",
       "Mrs       126\n",
       "Master     40\n",
       "Rare       23\n",
       "dtype: int64"
      ]
     },
     "execution_count": 20,
     "metadata": {},
     "output_type": "execute_result"
    }
   ],
   "source": [
    "title=title.replace(['Lady', 'Countess','Capt', 'Col','Don', 'Dr', 'Major', 'Rev', 'Sir', 'Jonkheer', 'Dona'],'Rare')\n",
    "title=title.replace('Mlle','Miss')\n",
    "title=title.replace('Ms','Miss')\n",
    "title=title.replace('Mme','Mrs')\n",
    "title.value_counts()"
   ]
  },
  {
   "cell_type": "markdown",
   "metadata": {
    "papermill": {
     "duration": 0.041316,
     "end_time": "2021-01-11T10:05:52.255557",
     "exception": false,
     "start_time": "2021-01-11T10:05:52.214241",
     "status": "completed"
    },
    "tags": []
   },
   "source": [
    "Replacing  Text with integers"
   ]
  },
  {
   "cell_type": "code",
   "execution_count": 21,
   "metadata": {
    "execution": {
     "iopub.execute_input": "2021-01-11T10:05:52.348546Z",
     "iopub.status.busy": "2021-01-11T10:05:52.347849Z",
     "iopub.status.idle": "2021-01-11T10:05:52.351752Z",
     "shell.execute_reply": "2021-01-11T10:05:52.351151Z"
    },
    "papermill": {
     "duration": 0.054243,
     "end_time": "2021-01-11T10:05:52.351870",
     "exception": false,
     "start_time": "2021-01-11T10:05:52.297627",
     "status": "completed"
    },
    "tags": []
   },
   "outputs": [],
   "source": [
    "data['Title']=title\n",
    "dic1= {\"Mr\": 1, \"Miss\": 2, \"Mrs\": 3, \"Master\": 4, \"Rare\": 5}\n",
    "data['Title'] = data['Title'].map(dic1)\n",
    "data['Title'] =data['Title'].fillna(0)"
   ]
  },
  {
   "cell_type": "code",
   "execution_count": 22,
   "metadata": {
    "execution": {
     "iopub.execute_input": "2021-01-11T10:05:52.450652Z",
     "iopub.status.busy": "2021-01-11T10:05:52.443192Z",
     "iopub.status.idle": "2021-01-11T10:05:52.608410Z",
     "shell.execute_reply": "2021-01-11T10:05:52.607840Z"
    },
    "papermill": {
     "duration": 0.214696,
     "end_time": "2021-01-11T10:05:52.608524",
     "exception": false,
     "start_time": "2021-01-11T10:05:52.393828",
     "status": "completed"
    },
    "tags": []
   },
   "outputs": [
    {
     "data": {
      "text/plain": [
       "<matplotlib.axes._subplots.AxesSubplot at 0x7f2909524390>"
      ]
     },
     "execution_count": 22,
     "metadata": {},
     "output_type": "execute_result"
    },
    {
     "data": {
      "image/png": "[encoded data removed]",
      "text/plain": [
       "<Figure size 432x288 with 1 Axes>"
      ]
     },
     "metadata": {
      "needs_background": "light"
     },
     "output_type": "display_data"
    }
   ],
   "source": [
    "pd.pivot_table(data,values='Survived',columns='Title').plot.bar()\n",
    "#survival rate Title wise\n",
    "#you can see that Mrs has the highest rate of survival and Mr has lowest"
   ]
  },
  {
   "cell_type": "code",
   "execution_count": 23,
   "metadata": {
    "execution": {
     "iopub.execute_input": "2021-01-11T10:05:52.714339Z",
     "iopub.status.busy": "2021-01-11T10:05:52.713680Z",
     "iopub.status.idle": "2021-01-11T10:05:52.717807Z",
     "shell.execute_reply": "2021-01-11T10:05:52.718271Z"
    },
    "papermill": {
     "duration": 0.066833,
     "end_time": "2021-01-11T10:05:52.718438",
     "exception": false,
     "start_time": "2021-01-11T10:05:52.651605",
     "status": "completed"
    },
    "tags": []
   },
   "outputs": [
    {
     "data": {
      "text/html": [
       "<div>\n",
       "<style scoped>\n",
       "    .dataframe tbody tr th:only-of-type {\n",
       "        vertical-align: middle;\n",
       "    }\n",
       "\n",
       "    .dataframe tbody tr th {\n",
       "        vertical-align: top;\n",
       "    }\n",
       "\n",
       "    .dataframe thead th {\n",
       "        text-align: right;\n",
       "    }\n",
       "</style>\n",
       "<table border=\"1\" class=\"dataframe\">\n",
       "  <thead>\n",
       "    <tr style=\"text-align: right;\">\n",
       "      <th></th>\n",
       "      <th>PassengerId</th>\n",
       "      <th>Survived</th>\n",
       "      <th>Pclass</th>\n",
       "      <th>Name</th>\n",
       "      <th>Sex</th>\n",
       "      <th>Age</th>\n",
       "      <th>SibSp</th>\n",
       "      <th>Parch</th>\n",
       "      <th>Ticket</th>\n",
       "      <th>Fare</th>\n",
       "      <th>Cabin</th>\n",
       "      <th>Embarked</th>\n",
       "      <th>Ticket_type</th>\n",
       "      <th>Words_counts</th>\n",
       "      <th>cabin_or_not</th>\n",
       "      <th>Family_size</th>\n",
       "      <th>IsAlone</th>\n",
       "      <th>fare_cat</th>\n",
       "      <th>cat_age</th>\n",
       "      <th>Title</th>\n",
       "    </tr>\n",
       "  </thead>\n",
       "  <tbody>\n",
       "    <tr>\n",
       "      <th>0</th>\n",
       "      <td>1</td>\n",
       "      <td>0</td>\n",
       "      <td>3</td>\n",
       "      <td>Braund, Mr. Owen Harris</td>\n",
       "      <td>male</td>\n",
       "      <td>22.0</td>\n",
       "      <td>1</td>\n",
       "      <td>0</td>\n",
       "      <td>A/5 21171</td>\n",
       "      <td>7.2500</td>\n",
       "      <td>NaN</td>\n",
       "      <td>S</td>\n",
       "      <td>124</td>\n",
       "      <td>4</td>\n",
       "      <td>0</td>\n",
       "      <td>2</td>\n",
       "      <td>0</td>\n",
       "      <td>0</td>\n",
       "      <td>1</td>\n",
       "      <td>1</td>\n",
       "    </tr>\n",
       "    <tr>\n",
       "      <th>1</th>\n",
       "      <td>2</td>\n",
       "      <td>1</td>\n",
       "      <td>1</td>\n",
       "      <td>Cumings, Mrs. John Bradley (Florence Briggs Th...</td>\n",
       "      <td>female</td>\n",
       "      <td>38.0</td>\n",
       "      <td>1</td>\n",
       "      <td>0</td>\n",
       "      <td>PC 17599</td>\n",
       "      <td>71.2833</td>\n",
       "      <td>C85</td>\n",
       "      <td>C</td>\n",
       "      <td>137</td>\n",
       "      <td>7</td>\n",
       "      <td>1</td>\n",
       "      <td>2</td>\n",
       "      <td>0</td>\n",
       "      <td>3</td>\n",
       "      <td>2</td>\n",
       "      <td>3</td>\n",
       "    </tr>\n",
       "    <tr>\n",
       "      <th>2</th>\n",
       "      <td>3</td>\n",
       "      <td>1</td>\n",
       "      <td>3</td>\n",
       "      <td>Heikkinen, Miss. Laina</td>\n",
       "      <td>female</td>\n",
       "      <td>26.0</td>\n",
       "      <td>0</td>\n",
       "      <td>0</td>\n",
       "      <td>STON/O2. 3101282</td>\n",
       "      <td>7.9250</td>\n",
       "      <td>NaN</td>\n",
       "      <td>S</td>\n",
       "      <td>148</td>\n",
       "      <td>3</td>\n",
       "      <td>0</td>\n",
       "      <td>1</td>\n",
       "      <td>1</td>\n",
       "      <td>1</td>\n",
       "      <td>1</td>\n",
       "      <td>2</td>\n",
       "    </tr>\n",
       "  </tbody>\n",
       "</table>\n",
       "</div>"
      ],
      "text/plain": [
       "   PassengerId  Survived  Pclass  \\\n",
       "0            1         0       3   \n",
       "1            2         1       1   \n",
       "2            3         1       3   \n",
       "\n",
       "                                                Name     Sex   Age  SibSp  \\\n",
       "0                            Braund, Mr. Owen Harris    male  22.0      1   \n",
       "1  Cumings, Mrs. John Bradley (Florence Briggs Th...  female  38.0      1   \n",
       "2                             Heikkinen, Miss. Laina  female  26.0      0   \n",
       "\n",
       "   Parch            Ticket     Fare Cabin Embarked  Ticket_type  Words_counts  \\\n",
       "0      0         A/5 21171   7.2500   NaN        S          124             4   \n",
       "1      0          PC 17599  71.2833   C85        C          137             7   \n",
       "2      0  STON/O2. 3101282   7.9250   NaN        S          148             3   \n",
       "\n",
       "   cabin_or_not  Family_size  IsAlone  fare_cat  cat_age  Title  \n",
       "0             0            2        0         0        1      1  \n",
       "1             1            2        0         3        2      3  \n",
       "2             0            1        1         1        1      2  "
      ]
     },
     "execution_count": 23,
     "metadata": {},
     "output_type": "execute_result"
    }
   ],
   "source": [
    "data.head(3)"
   ]
  },
  {
   "cell_type": "code",
   "execution_count": 24,
   "metadata": {
    "execution": {
     "iopub.execute_input": "2021-01-11T10:05:52.839845Z",
     "iopub.status.busy": "2021-01-11T10:05:52.839018Z",
     "iopub.status.idle": "2021-01-11T10:05:52.846732Z",
     "shell.execute_reply": "2021-01-11T10:05:52.845565Z"
    },
    "papermill": {
     "duration": 0.084848,
     "end_time": "2021-01-11T10:05:52.846914",
     "exception": false,
     "start_time": "2021-01-11T10:05:52.762066",
     "status": "completed"
    },
    "tags": []
   },
   "outputs": [
    {
     "data": {
      "text/html": [
       "<div>\n",
       "<style scoped>\n",
       "    .dataframe tbody tr th:only-of-type {\n",
       "        vertical-align: middle;\n",
       "    }\n",
       "\n",
       "    .dataframe tbody tr th {\n",
       "        vertical-align: top;\n",
       "    }\n",
       "\n",
       "    .dataframe thead th {\n",
       "        text-align: right;\n",
       "    }\n",
       "</style>\n",
       "<table border=\"1\" class=\"dataframe\">\n",
       "  <thead>\n",
       "    <tr style=\"text-align: right;\">\n",
       "      <th></th>\n",
       "      <th>PassengerId</th>\n",
       "      <th>Survived</th>\n",
       "      <th>Pclass</th>\n",
       "      <th>Name</th>\n",
       "      <th>Sex</th>\n",
       "      <th>Age</th>\n",
       "      <th>SibSp</th>\n",
       "      <th>Parch</th>\n",
       "      <th>Ticket</th>\n",
       "      <th>Fare</th>\n",
       "      <th>Cabin</th>\n",
       "      <th>Embarked</th>\n",
       "      <th>Ticket_type</th>\n",
       "      <th>Words_counts</th>\n",
       "      <th>cabin_or_not</th>\n",
       "      <th>Family_size</th>\n",
       "      <th>IsAlone</th>\n",
       "      <th>fare_cat</th>\n",
       "      <th>cat_age</th>\n",
       "      <th>Title</th>\n",
       "    </tr>\n",
       "  </thead>\n",
       "  <tbody>\n",
       "    <tr>\n",
       "      <th>0</th>\n",
       "      <td>1</td>\n",
       "      <td>0</td>\n",
       "      <td>3</td>\n",
       "      <td>Braund, Mr. Owen Harris</td>\n",
       "      <td>1</td>\n",
       "      <td>22.0</td>\n",
       "      <td>1</td>\n",
       "      <td>0</td>\n",
       "      <td>A/5 21171</td>\n",
       "      <td>7.2500</td>\n",
       "      <td>NaN</td>\n",
       "      <td>S</td>\n",
       "      <td>124</td>\n",
       "      <td>4</td>\n",
       "      <td>0</td>\n",
       "      <td>2</td>\n",
       "      <td>0</td>\n",
       "      <td>0</td>\n",
       "      <td>1</td>\n",
       "      <td>1</td>\n",
       "    </tr>\n",
       "    <tr>\n",
       "      <th>1</th>\n",
       "      <td>2</td>\n",
       "      <td>1</td>\n",
       "      <td>1</td>\n",
       "      <td>Cumings, Mrs. John Bradley (Florence Briggs Th...</td>\n",
       "      <td>0</td>\n",
       "      <td>38.0</td>\n",
       "      <td>1</td>\n",
       "      <td>0</td>\n",
       "      <td>PC 17599</td>\n",
       "      <td>71.2833</td>\n",
       "      <td>C85</td>\n",
       "      <td>C</td>\n",
       "      <td>137</td>\n",
       "      <td>7</td>\n",
       "      <td>1</td>\n",
       "      <td>2</td>\n",
       "      <td>0</td>\n",
       "      <td>3</td>\n",
       "      <td>2</td>\n",
       "      <td>3</td>\n",
       "    </tr>\n",
       "    <tr>\n",
       "      <th>2</th>\n",
       "      <td>3</td>\n",
       "      <td>1</td>\n",
       "      <td>3</td>\n",
       "      <td>Heikkinen, Miss. Laina</td>\n",
       "      <td>0</td>\n",
       "      <td>26.0</td>\n",
       "      <td>0</td>\n",
       "      <td>0</td>\n",
       "      <td>STON/O2. 3101282</td>\n",
       "      <td>7.9250</td>\n",
       "      <td>NaN</td>\n",
       "      <td>S</td>\n",
       "      <td>148</td>\n",
       "      <td>3</td>\n",
       "      <td>0</td>\n",
       "      <td>1</td>\n",
       "      <td>1</td>\n",
       "      <td>1</td>\n",
       "      <td>1</td>\n",
       "      <td>2</td>\n",
       "    </tr>\n",
       "  </tbody>\n",
       "</table>\n",
       "</div>"
      ],
      "text/plain": [
       "   PassengerId  Survived  Pclass  \\\n",
       "0            1         0       3   \n",
       "1            2         1       1   \n",
       "2            3         1       3   \n",
       "\n",
       "                                                Name  Sex   Age  SibSp  Parch  \\\n",
       "0                            Braund, Mr. Owen Harris    1  22.0      1      0   \n",
       "1  Cumings, Mrs. John Bradley (Florence Briggs Th...    0  38.0      1      0   \n",
       "2                             Heikkinen, Miss. Laina    0  26.0      0      0   \n",
       "\n",
       "             Ticket     Fare Cabin Embarked  Ticket_type  Words_counts  \\\n",
       "0         A/5 21171   7.2500   NaN        S          124             4   \n",
       "1          PC 17599  71.2833   C85        C          137             7   \n",
       "2  STON/O2. 3101282   7.9250   NaN        S          148             3   \n",
       "\n",
       "   cabin_or_not  Family_size  IsAlone  fare_cat  cat_age  Title  \n",
       "0             0            2        0         0        1      1  \n",
       "1             1            2        0         3        2      3  \n",
       "2             0            1        1         1        1      2  "
      ]
     },
     "execution_count": 24,
     "metadata": {},
     "output_type": "execute_result"
    }
   ],
   "source": [
    "data['Sex'] = data['Sex'].map( {'female': 0, 'male': 1} ).astype(int)\n",
    "data.head(3)"
   ]
  },
  {
   "cell_type": "code",
   "execution_count": 25,
   "metadata": {
    "execution": {
     "iopub.execute_input": "2021-01-11T10:05:52.982089Z",
     "iopub.status.busy": "2021-01-11T10:05:52.973570Z",
     "iopub.status.idle": "2021-01-11T10:05:53.116246Z",
     "shell.execute_reply": "2021-01-11T10:05:53.116800Z"
    },
    "papermill": {
     "duration": 0.206938,
     "end_time": "2021-01-11T10:05:53.116945",
     "exception": false,
     "start_time": "2021-01-11T10:05:52.910007",
     "status": "completed"
    },
    "tags": []
   },
   "outputs": [
    {
     "data": {
      "text/plain": [
       "<matplotlib.axes._subplots.AxesSubplot at 0x7f29094f2b50>"
      ]
     },
     "execution_count": 25,
     "metadata": {},
     "output_type": "execute_result"
    },
    {
     "data": {
      "image/png": "[encoded data removed]",
      "text/plain": [
       "<Figure size 432x288 with 1 Axes>"
      ]
     },
     "metadata": {
      "needs_background": "light"
     },
     "output_type": "display_data"
    }
   ],
   "source": [
    "pd.pivot_table(data,values='Survived',columns='Sex').plot.bar()\n",
    "#female has the highest rate of survival"
   ]
  },
  {
   "cell_type": "code",
   "execution_count": 26,
   "metadata": {
    "execution": {
     "iopub.execute_input": "2021-01-11T10:05:53.217501Z",
     "iopub.status.busy": "2021-01-11T10:05:53.216831Z",
     "iopub.status.idle": "2021-01-11T10:05:53.220119Z",
     "shell.execute_reply": "2021-01-11T10:05:53.219497Z"
    },
    "papermill": {
     "duration": 0.057029,
     "end_time": "2021-01-11T10:05:53.220291",
     "exception": false,
     "start_time": "2021-01-11T10:05:53.163262",
     "status": "completed"
    },
    "tags": []
   },
   "outputs": [],
   "source": [
    "data['Embarked'] = data['Embarked'].map( {'S': 0, 'C': 1, 'Q': 2} ).astype(int)"
   ]
  },
  {
   "cell_type": "code",
   "execution_count": 27,
   "metadata": {
    "execution": {
     "iopub.execute_input": "2021-01-11T10:05:53.320872Z",
     "iopub.status.busy": "2021-01-11T10:05:53.318203Z",
     "iopub.status.idle": "2021-01-11T10:05:53.465298Z",
     "shell.execute_reply": "2021-01-11T10:05:53.464622Z"
    },
    "papermill": {
     "duration": 0.199575,
     "end_time": "2021-01-11T10:05:53.465431",
     "exception": false,
     "start_time": "2021-01-11T10:05:53.265856",
     "status": "completed"
    },
    "tags": []
   },
   "outputs": [
    {
     "data": {
      "text/plain": [
       "<matplotlib.axes._subplots.AxesSubplot at 0x7f290950edd0>"
      ]
     },
     "execution_count": 27,
     "metadata": {},
     "output_type": "execute_result"
    },
    {
     "data": {
      "image/png": "[encoded data removed]",
      "text/plain": [
       "<Figure size 432x288 with 1 Axes>"
      ]
     },
     "metadata": {
      "needs_background": "light"
     },
     "output_type": "display_data"
    }
   ],
   "source": [
    "pd.pivot_table(data,values='Survived',columns='Embarked').plot.bar()\n",
    "#survival rate vs Embarked"
   ]
  },
  {
   "cell_type": "code",
   "execution_count": 28,
   "metadata": {
    "execution": {
     "iopub.execute_input": "2021-01-11T10:05:53.566408Z",
     "iopub.status.busy": "2021-01-11T10:05:53.565552Z",
     "iopub.status.idle": "2021-01-11T10:05:53.569407Z",
     "shell.execute_reply": "2021-01-11T10:05:53.568768Z"
    },
    "papermill": {
     "duration": 0.056881,
     "end_time": "2021-01-11T10:05:53.569517",
     "exception": false,
     "start_time": "2021-01-11T10:05:53.512636",
     "status": "completed"
    },
    "tags": []
   },
   "outputs": [],
   "source": [
    "data.drop(columns=['PassengerId','Name','Ticket','Cabin'],inplace=True)"
   ]
  },
  {
   "cell_type": "code",
   "execution_count": 29,
   "metadata": {
    "execution": {
     "iopub.execute_input": "2021-01-11T10:05:53.678968Z",
     "iopub.status.busy": "2021-01-11T10:05:53.678203Z",
     "iopub.status.idle": "2021-01-11T10:05:53.682342Z",
     "shell.execute_reply": "2021-01-11T10:05:53.681660Z"
    },
    "papermill": {
     "duration": 0.065696,
     "end_time": "2021-01-11T10:05:53.682477",
     "exception": false,
     "start_time": "2021-01-11T10:05:53.616781",
     "status": "completed"
    },
    "tags": []
   },
   "outputs": [
    {
     "data": {
      "text/html": [
       "<div>\n",
       "<style scoped>\n",
       "    .dataframe tbody tr th:only-of-type {\n",
       "        vertical-align: middle;\n",
       "    }\n",
       "\n",
       "    .dataframe tbody tr th {\n",
       "        vertical-align: top;\n",
       "    }\n",
       "\n",
       "    .dataframe thead th {\n",
       "        text-align: right;\n",
       "    }\n",
       "</style>\n",
       "<table border=\"1\" class=\"dataframe\">\n",
       "  <thead>\n",
       "    <tr style=\"text-align: right;\">\n",
       "      <th></th>\n",
       "      <th>Survived</th>\n",
       "      <th>Pclass</th>\n",
       "      <th>Sex</th>\n",
       "      <th>Age</th>\n",
       "      <th>SibSp</th>\n",
       "      <th>Parch</th>\n",
       "      <th>Fare</th>\n",
       "      <th>Embarked</th>\n",
       "      <th>Ticket_type</th>\n",
       "      <th>Words_counts</th>\n",
       "      <th>cabin_or_not</th>\n",
       "      <th>Family_size</th>\n",
       "      <th>IsAlone</th>\n",
       "      <th>fare_cat</th>\n",
       "      <th>cat_age</th>\n",
       "      <th>Title</th>\n",
       "    </tr>\n",
       "  </thead>\n",
       "  <tbody>\n",
       "    <tr>\n",
       "      <th>0</th>\n",
       "      <td>0</td>\n",
       "      <td>3</td>\n",
       "      <td>1</td>\n",
       "      <td>22.0</td>\n",
       "      <td>1</td>\n",
       "      <td>0</td>\n",
       "      <td>7.2500</td>\n",
       "      <td>0</td>\n",
       "      <td>124</td>\n",
       "      <td>4</td>\n",
       "      <td>0</td>\n",
       "      <td>2</td>\n",
       "      <td>0</td>\n",
       "      <td>0</td>\n",
       "      <td>1</td>\n",
       "      <td>1</td>\n",
       "    </tr>\n",
       "    <tr>\n",
       "      <th>1</th>\n",
       "      <td>1</td>\n",
       "      <td>1</td>\n",
       "      <td>0</td>\n",
       "      <td>38.0</td>\n",
       "      <td>1</td>\n",
       "      <td>0</td>\n",
       "      <td>71.2833</td>\n",
       "      <td>1</td>\n",
       "      <td>137</td>\n",
       "      <td>7</td>\n",
       "      <td>1</td>\n",
       "      <td>2</td>\n",
       "      <td>0</td>\n",
       "      <td>3</td>\n",
       "      <td>2</td>\n",
       "      <td>3</td>\n",
       "    </tr>\n",
       "    <tr>\n",
       "      <th>2</th>\n",
       "      <td>1</td>\n",
       "      <td>3</td>\n",
       "      <td>0</td>\n",
       "      <td>26.0</td>\n",
       "      <td>0</td>\n",
       "      <td>0</td>\n",
       "      <td>7.9250</td>\n",
       "      <td>0</td>\n",
       "      <td>148</td>\n",
       "      <td>3</td>\n",
       "      <td>0</td>\n",
       "      <td>1</td>\n",
       "      <td>1</td>\n",
       "      <td>1</td>\n",
       "      <td>1</td>\n",
       "      <td>2</td>\n",
       "    </tr>\n",
       "  </tbody>\n",
       "</table>\n",
       "</div>"
      ],
      "text/plain": [
       "   Survived  Pclass  Sex   Age  SibSp  Parch     Fare  Embarked  Ticket_type  \\\n",
       "0         0       3    1  22.0      1      0   7.2500         0          124   \n",
       "1         1       1    0  38.0      1      0  71.2833         1          137   \n",
       "2         1       3    0  26.0      0      0   7.9250         0          148   \n",
       "\n",
       "   Words_counts  cabin_or_not  Family_size  IsAlone  fare_cat  cat_age  Title  \n",
       "0             4             0            2        0         0        1      1  \n",
       "1             7             1            2        0         3        2      3  \n",
       "2             3             0            1        1         1        1      2  "
      ]
     },
     "execution_count": 29,
     "metadata": {},
     "output_type": "execute_result"
    }
   ],
   "source": [
    "data.head(3)"
   ]
  },
  {
   "cell_type": "code",
   "execution_count": 30,
   "metadata": {
    "execution": {
     "iopub.execute_input": "2021-01-11T10:05:53.785012Z",
     "iopub.status.busy": "2021-01-11T10:05:53.784195Z",
     "iopub.status.idle": "2021-01-11T10:05:53.794780Z",
     "shell.execute_reply": "2021-01-11T10:05:53.795488Z"
    },
    "papermill": {
     "duration": 0.064725,
     "end_time": "2021-01-11T10:05:53.795686",
     "exception": false,
     "start_time": "2021-01-11T10:05:53.730961",
     "status": "completed"
    },
    "tags": []
   },
   "outputs": [
    {
     "name": "stdout",
     "output_type": "stream",
     "text": [
      "<class 'pandas.core.frame.DataFrame'>\n",
      "RangeIndex: 891 entries, 0 to 890\n",
      "Data columns (total 16 columns):\n",
      " #   Column        Non-Null Count  Dtype  \n",
      "---  ------        --------------  -----  \n",
      " 0   Survived      891 non-null    int64  \n",
      " 1   Pclass        891 non-null    int64  \n",
      " 2   Sex           891 non-null    int64  \n",
      " 3   Age           891 non-null    float64\n",
      " 4   SibSp         891 non-null    int64  \n",
      " 5   Parch         891 non-null    int64  \n",
      " 6   Fare          891 non-null    float64\n",
      " 7   Embarked      891 non-null    int64  \n",
      " 8   Ticket_type   891 non-null    int16  \n",
      " 9   Words_counts  891 non-null    int64  \n",
      " 10  cabin_or_not  891 non-null    int64  \n",
      " 11  Family_size   891 non-null    int64  \n",
      " 12  IsAlone       891 non-null    int64  \n",
      " 13  fare_cat      891 non-null    int64  \n",
      " 14  cat_age       891 non-null    int64  \n",
      " 15  Title         891 non-null    int64  \n",
      "dtypes: float64(2), int16(1), int64(13)\n",
      "memory usage: 106.3 KB\n"
     ]
    }
   ],
   "source": [
    "data.info()"
   ]
  },
  {
   "cell_type": "markdown",
   "metadata": {
    "papermill": {
     "duration": 0.048718,
     "end_time": "2021-01-11T10:05:53.894211",
     "exception": false,
     "start_time": "2021-01-11T10:05:53.845493",
     "status": "completed"
    },
    "tags": []
   },
   "source": [
    "**data is ready**"
   ]
  },
  {
   "cell_type": "markdown",
   "metadata": {
    "papermill": {
     "duration": 0.04886,
     "end_time": "2021-01-11T10:05:53.993116",
     "exception": false,
     "start_time": "2021-01-11T10:05:53.944256",
     "status": "completed"
    },
    "tags": []
   },
   "source": [
    "**Just make the above blocks of code into one block and apply it on both test and train data**"
   ]
  },
  {
   "cell_type": "code",
   "execution_count": 31,
   "metadata": {
    "execution": {
     "iopub.execute_input": "2021-01-11T10:05:54.093246Z",
     "iopub.status.busy": "2021-01-11T10:05:54.092600Z",
     "iopub.status.idle": "2021-01-11T10:05:54.111719Z",
     "shell.execute_reply": "2021-01-11T10:05:54.112233Z"
    },
    "papermill": {
     "duration": 0.070915,
     "end_time": "2021-01-11T10:05:54.112413",
     "exception": false,
     "start_time": "2021-01-11T10:05:54.041498",
     "status": "completed"
    },
    "tags": []
   },
   "outputs": [],
   "source": [
    "train=pd.read_csv('../input/titanic/train.csv')\n",
    "test=pd.read_csv('../input/titanic/test.csv')"
   ]
  },
  {
   "cell_type": "code",
   "execution_count": 32,
   "metadata": {
    "execution": {
     "iopub.execute_input": "2021-01-11T10:05:54.213293Z",
     "iopub.status.busy": "2021-01-11T10:05:54.212640Z",
     "iopub.status.idle": "2021-01-11T10:05:54.224766Z",
     "shell.execute_reply": "2021-01-11T10:05:54.225293Z"
    },
    "papermill": {
     "duration": 0.06422,
     "end_time": "2021-01-11T10:05:54.225458",
     "exception": false,
     "start_time": "2021-01-11T10:05:54.161238",
     "status": "completed"
    },
    "tags": []
   },
   "outputs": [
    {
     "name": "stdout",
     "output_type": "stream",
     "text": [
      "<class 'pandas.core.frame.DataFrame'>\n",
      "RangeIndex: 418 entries, 0 to 417\n",
      "Data columns (total 11 columns):\n",
      " #   Column       Non-Null Count  Dtype  \n",
      "---  ------       --------------  -----  \n",
      " 0   PassengerId  418 non-null    int64  \n",
      " 1   Pclass       418 non-null    int64  \n",
      " 2   Name         418 non-null    object \n",
      " 3   Sex          418 non-null    object \n",
      " 4   Age          332 non-null    float64\n",
      " 5   SibSp        418 non-null    int64  \n",
      " 6   Parch        418 non-null    int64  \n",
      " 7   Ticket       418 non-null    object \n",
      " 8   Fare         417 non-null    float64\n",
      " 9   Cabin        91 non-null     object \n",
      " 10  Embarked     418 non-null    object \n",
      "dtypes: float64(2), int64(4), object(5)\n",
      "memory usage: 36.0+ KB\n"
     ]
    }
   ],
   "source": [
    "test.info()"
   ]
  },
  {
   "cell_type": "code",
   "execution_count": 33,
   "metadata": {
    "execution": {
     "iopub.execute_input": "2021-01-11T10:05:54.330969Z",
     "iopub.status.busy": "2021-01-11T10:05:54.330009Z",
     "iopub.status.idle": "2021-01-11T10:05:54.332958Z",
     "shell.execute_reply": "2021-01-11T10:05:54.332451Z"
    },
    "papermill": {
     "duration": 0.058182,
     "end_time": "2021-01-11T10:05:54.333073",
     "exception": false,
     "start_time": "2021-01-11T10:05:54.274891",
     "status": "completed"
    },
    "tags": []
   },
   "outputs": [],
   "source": [
    "test['Fare'].fillna(test['Fare'].mean(),inplace=True)"
   ]
  },
  {
   "cell_type": "code",
   "execution_count": 34,
   "metadata": {
    "execution": {
     "iopub.execute_input": "2021-01-11T10:05:54.436021Z",
     "iopub.status.busy": "2021-01-11T10:05:54.435317Z",
     "iopub.status.idle": "2021-01-11T10:05:54.518192Z",
     "shell.execute_reply": "2021-01-11T10:05:54.517591Z"
    },
    "papermill": {
     "duration": 0.135126,
     "end_time": "2021-01-11T10:05:54.518315",
     "exception": false,
     "start_time": "2021-01-11T10:05:54.383189",
     "status": "completed"
    },
    "tags": []
   },
   "outputs": [],
   "source": [
    "datas=[train,test]\n",
    "for data in datas:\n",
    "    data['Ticket_type']=data['Ticket'].apply(lambda x: x[0:3])\n",
    "    data['Ticket_type']=data['Ticket_type'].astype('category').cat.codes\n",
    "    data['Words_counts']=data['Name'].apply(lambda x: len(x.split()))\n",
    "    data['cabin_or_not']=data[\"Cabin\"].apply(lambda x: 0 if type(x) == float else 1)\n",
    "    data['Family_size']=data['SibSp'] + data['Parch'] + 1\n",
    "    data['IsAlone'] = 0\n",
    "    data.loc[data['Family_size'] == 1, 'IsAlone'] = 1\n",
    "    data['Embarked'] = data['Embarked'].fillna('S')\n",
    "    data['fare_cat']=pd.qcut(data['Fare'], 4)\n",
    "    data['Age'].fillna(data['Age'].mean(),inplace=True)\n",
    "    data['cat_age']=pd.cut(data['Age'],5)\n",
    "    title=[]\n",
    "    for i in range(0,len(data)):\n",
    "        title.append(re.search(' ([A-Za-z]+)\\.', data['Name'][i]).group(1))\n",
    "    title=pd.Series(title)\n",
    "    title=title.replace(['Lady', 'Countess','Capt', 'Col','Don', 'Dr', 'Major', 'Rev', 'Sir', 'Jonkheer', 'Dona'],'Rare')\n",
    "    title=title.replace('Mlle','Miss')\n",
    "    title=title.replace('Ms','Miss')\n",
    "    title=title.replace('Mme','Mrs')\n",
    "    data['Title']=title\n",
    "    data['Sex'] = data['Sex'].map( {'female': 0, 'male': 1} ).astype(int)\n",
    "    dic1= {\"Mr\": 1, \"Miss\": 2, \"Mrs\": 3, \"Master\": 4, \"Rare\": 5}\n",
    "    data['Title'] = data['Title'].map(dic1)\n",
    "    data['Title'] =data['Title'].fillna(0)\n",
    "    data['Embarked'] = data['Embarked'].map( {'S': 0, 'C': 1, 'Q': 2} ).astype('int')\n",
    "    data['fare_cat']=data['fare_cat'].astype('category').cat.codes.astype('int')\n",
    "    data['cat_age']=data['cat_age'].astype('category').cat.codes.astype('int')\n",
    "    data.drop(columns=['PassengerId','Name','Ticket','Cabin'],inplace=True)\n",
    "    "
   ]
  },
  {
   "cell_type": "code",
   "execution_count": 35,
   "metadata": {
    "execution": {
     "iopub.execute_input": "2021-01-11T10:05:54.633483Z",
     "iopub.status.busy": "2021-01-11T10:05:54.632472Z",
     "iopub.status.idle": "2021-01-11T10:05:54.637126Z",
     "shell.execute_reply": "2021-01-11T10:05:54.636581Z"
    },
    "papermill": {
     "duration": 0.069589,
     "end_time": "2021-01-11T10:05:54.637238",
     "exception": false,
     "start_time": "2021-01-11T10:05:54.567649",
     "status": "completed"
    },
    "tags": []
   },
   "outputs": [
    {
     "data": {
      "text/html": [
       "<div>\n",
       "<style scoped>\n",
       "    .dataframe tbody tr th:only-of-type {\n",
       "        vertical-align: middle;\n",
       "    }\n",
       "\n",
       "    .dataframe tbody tr th {\n",
       "        vertical-align: top;\n",
       "    }\n",
       "\n",
       "    .dataframe thead th {\n",
       "        text-align: right;\n",
       "    }\n",
       "</style>\n",
       "<table border=\"1\" class=\"dataframe\">\n",
       "  <thead>\n",
       "    <tr style=\"text-align: right;\">\n",
       "      <th></th>\n",
       "      <th>Survived</th>\n",
       "      <th>Pclass</th>\n",
       "      <th>Sex</th>\n",
       "      <th>Age</th>\n",
       "      <th>SibSp</th>\n",
       "      <th>Parch</th>\n",
       "      <th>Fare</th>\n",
       "      <th>Embarked</th>\n",
       "      <th>Ticket_type</th>\n",
       "      <th>Words_counts</th>\n",
       "      <th>cabin_or_not</th>\n",
       "      <th>Family_size</th>\n",
       "      <th>IsAlone</th>\n",
       "      <th>fare_cat</th>\n",
       "      <th>cat_age</th>\n",
       "      <th>Title</th>\n",
       "    </tr>\n",
       "  </thead>\n",
       "  <tbody>\n",
       "    <tr>\n",
       "      <th>0</th>\n",
       "      <td>0</td>\n",
       "      <td>3</td>\n",
       "      <td>1</td>\n",
       "      <td>22.0</td>\n",
       "      <td>1</td>\n",
       "      <td>0</td>\n",
       "      <td>7.2500</td>\n",
       "      <td>0</td>\n",
       "      <td>124</td>\n",
       "      <td>4</td>\n",
       "      <td>0</td>\n",
       "      <td>2</td>\n",
       "      <td>0</td>\n",
       "      <td>0</td>\n",
       "      <td>1</td>\n",
       "      <td>1</td>\n",
       "    </tr>\n",
       "    <tr>\n",
       "      <th>1</th>\n",
       "      <td>1</td>\n",
       "      <td>1</td>\n",
       "      <td>0</td>\n",
       "      <td>38.0</td>\n",
       "      <td>1</td>\n",
       "      <td>0</td>\n",
       "      <td>71.2833</td>\n",
       "      <td>1</td>\n",
       "      <td>137</td>\n",
       "      <td>7</td>\n",
       "      <td>1</td>\n",
       "      <td>2</td>\n",
       "      <td>0</td>\n",
       "      <td>3</td>\n",
       "      <td>2</td>\n",
       "      <td>3</td>\n",
       "    </tr>\n",
       "    <tr>\n",
       "      <th>2</th>\n",
       "      <td>1</td>\n",
       "      <td>3</td>\n",
       "      <td>0</td>\n",
       "      <td>26.0</td>\n",
       "      <td>0</td>\n",
       "      <td>0</td>\n",
       "      <td>7.9250</td>\n",
       "      <td>0</td>\n",
       "      <td>148</td>\n",
       "      <td>3</td>\n",
       "      <td>0</td>\n",
       "      <td>1</td>\n",
       "      <td>1</td>\n",
       "      <td>1</td>\n",
       "      <td>1</td>\n",
       "      <td>2</td>\n",
       "    </tr>\n",
       "  </tbody>\n",
       "</table>\n",
       "</div>"
      ],
      "text/plain": [
       "   Survived  Pclass  Sex   Age  SibSp  Parch     Fare  Embarked  Ticket_type  \\\n",
       "0         0       3    1  22.0      1      0   7.2500         0          124   \n",
       "1         1       1    0  38.0      1      0  71.2833         1          137   \n",
       "2         1       3    0  26.0      0      0   7.9250         0          148   \n",
       "\n",
       "   Words_counts  cabin_or_not  Family_size  IsAlone  fare_cat  cat_age  Title  \n",
       "0             4             0            2        0         0        1      1  \n",
       "1             7             1            2        0         3        2      3  \n",
       "2             3             0            1        1         1        1      2  "
      ]
     },
     "execution_count": 35,
     "metadata": {},
     "output_type": "execute_result"
    }
   ],
   "source": [
    "train.head(3)"
   ]
  },
  {
   "cell_type": "code",
   "execution_count": 36,
   "metadata": {
    "execution": {
     "iopub.execute_input": "2021-01-11T10:05:54.746417Z",
     "iopub.status.busy": "2021-01-11T10:05:54.745593Z",
     "iopub.status.idle": "2021-01-11T10:05:54.748769Z",
     "shell.execute_reply": "2021-01-11T10:05:54.748168Z"
    },
    "papermill": {
     "duration": 0.060661,
     "end_time": "2021-01-11T10:05:54.748895",
     "exception": false,
     "start_time": "2021-01-11T10:05:54.688234",
     "status": "completed"
    },
    "tags": []
   },
   "outputs": [],
   "source": [
    "x=train.drop(columns=['Survived'])\n",
    "y=train['Survived']"
   ]
  },
  {
   "cell_type": "markdown",
   "metadata": {
    "papermill": {
     "duration": 0.051361,
     "end_time": "2021-01-11T10:05:54.851713",
     "exception": false,
     "start_time": "2021-01-11T10:05:54.800352",
     "status": "completed"
    },
    "tags": []
   },
   "source": [
    "**LogisticRegression MODEL**"
   ]
  },
  {
   "cell_type": "code",
   "execution_count": 37,
   "metadata": {
    "execution": {
     "iopub.execute_input": "2021-01-11T10:05:54.971025Z",
     "iopub.status.busy": "2021-01-11T10:05:54.961419Z",
     "iopub.status.idle": "2021-01-11T10:05:55.022834Z",
     "shell.execute_reply": "2021-01-11T10:05:55.022154Z"
    },
    "papermill": {
     "duration": 0.119742,
     "end_time": "2021-01-11T10:05:55.022968",
     "exception": false,
     "start_time": "2021-01-11T10:05:54.903226",
     "status": "completed"
    },
    "tags": []
   },
   "outputs": [
    {
     "name": "stderr",
     "output_type": "stream",
     "text": [
      "/opt/conda/lib/python3.7/site-packages/sklearn/linear_model/_logistic.py:764: ConvergenceWarning: lbfgs failed to converge (status=1):\n",
      "STOP: TOTAL NO. of ITERATIONS REACHED LIMIT.\n",
      "\n",
      "Increase the number of iterations (max_iter) or scale the data as shown in:\n",
      "    https://scikit-learn.org/stable/modules/preprocessing.html\n",
      "Please also refer to the documentation for alternative solver options:\n",
      "    https://scikit-learn.org/stable/modules/linear_model.html#logistic-regression\n",
      "  extra_warning_msg=_LOGISTIC_SOLVER_CONVERGENCE_MSG)\n"
     ]
    }
   ],
   "source": [
    "log_model = LogisticRegression(C=22).fit(x, y)"
   ]
  },
  {
   "cell_type": "markdown",
   "metadata": {
    "papermill": {
     "duration": 0.050823,
     "end_time": "2021-01-11T10:05:55.125307",
     "exception": false,
     "start_time": "2021-01-11T10:05:55.074484",
     "status": "completed"
    },
    "tags": []
   },
   "source": [
    "**Submitting our output**"
   ]
  },
  {
   "cell_type": "code",
   "execution_count": 38,
   "metadata": {
    "execution": {
     "iopub.execute_input": "2021-01-11T10:05:55.236321Z",
     "iopub.status.busy": "2021-01-11T10:05:55.235662Z",
     "iopub.status.idle": "2021-01-11T10:05:55.237654Z",
     "shell.execute_reply": "2021-01-11T10:05:55.238250Z"
    },
    "papermill": {
     "duration": 0.061513,
     "end_time": "2021-01-11T10:05:55.238413",
     "exception": false,
     "start_time": "2021-01-11T10:05:55.176900",
     "status": "completed"
    },
    "tags": []
   },
   "outputs": [],
   "source": [
    "submitssion_dis={'PassengerId':[a for a in range(892,1310)]\n",
    "                 ,'Survived':log_model.predict(test) }"
   ]
  },
  {
   "cell_type": "code",
   "execution_count": 39,
   "metadata": {
    "execution": {
     "iopub.execute_input": "2021-01-11T10:05:55.343933Z",
     "iopub.status.busy": "2021-01-11T10:05:55.343293Z",
     "iopub.status.idle": "2021-01-11T10:05:55.637754Z",
     "shell.execute_reply": "2021-01-11T10:05:55.636378Z"
    },
    "papermill": {
     "duration": 0.348045,
     "end_time": "2021-01-11T10:05:55.637885",
     "exception": false,
     "start_time": "2021-01-11T10:05:55.289840",
     "status": "completed"
    },
    "tags": []
   },
   "outputs": [],
   "source": [
    "submission=pd.DataFrame(submitssion_dis)\n",
    "submission.to_csv('Submission_out.csv',index=False)"
   ]
  }
 ],
 "metadata": {
  "kernelspec": {
   "display_name": "Python 3",
   "language": "python",
   "name": "python3"
  },
  "language_info": {
   "codemirror_mode": {
    "name": "ipython",
    "version": 3
   },
   "file_extension": ".py",
   "mimetype": "text/x-python",
   "name": "python",
   "nbconvert_exporter": "python",
   "pygments_lexer": "ipython3",
   "version": "3.7.6"
  },
  "papermill": {
   "duration": 12.947331,
   "end_time": "2021-01-11T10:05:55.797865",
   "environment_variables": {},
   "exception": null,
   "input_path": "__notebook__.ipynb",
   "output_path": "__notebook__.ipynb",
   "parameters": {},
   "start_time": "2021-01-11T10:05:42.850534",
   "version": "2.1.0"
  }
 },
 "nbformat": 4,
 "nbformat_minor": 4
}
